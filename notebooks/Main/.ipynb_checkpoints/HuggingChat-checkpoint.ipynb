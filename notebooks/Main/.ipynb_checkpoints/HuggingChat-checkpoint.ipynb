{
 "cells": [
  {
   "cell_type": "code",
   "execution_count": 1,
   "id": "6c140a9f-c964-4e76-afd6-f4807f78947c",
   "metadata": {
    "tags": []
   },
   "outputs": [
    {
     "name": "stdout",
     "output_type": "stream",
     "text": [
      "Requirement already satisfied: hugchat in /opt/conda/lib/python3.10/site-packages (0.4.11)\n",
      "Requirement already satisfied: requests in /opt/conda/lib/python3.10/site-packages (from hugchat) (2.32.3)\n",
      "Requirement already satisfied: requests-toolbelt in /opt/conda/lib/python3.10/site-packages (from hugchat) (1.0.0)\n",
      "Requirement already satisfied: charset-normalizer<4,>=2 in /opt/conda/lib/python3.10/site-packages (from requests->hugchat) (3.3.2)\n",
      "Requirement already satisfied: idna<4,>=2.5 in /opt/conda/lib/python3.10/site-packages (from requests->hugchat) (3.7)\n",
      "Requirement already satisfied: urllib3<3,>=1.21.1 in /opt/conda/lib/python3.10/site-packages (from requests->hugchat) (2.2.2)\n",
      "Requirement already satisfied: certifi>=2017.4.17 in /opt/conda/lib/python3.10/site-packages (from requests->hugchat) (2024.7.4)\n"
     ]
    }
   ],
   "source": [
    "!pip install hugchat"
   ]
  },
  {
   "cell_type": "code",
   "execution_count": 2,
   "id": "86f6fad8-292c-4bd2-a8b2-ce157d0dded5",
   "metadata": {
    "tags": []
   },
   "outputs": [],
   "source": [
    "from hugchat import hugchat\n",
    "from hugchat.login import Login\n",
    "\n",
    "# Log in to huggingface and grant authorization to huggingchat\n",
    "EMAIL = \"######\"\n",
    "PASSWD = \"$$$$$$$\"\n",
    "cookie_path_dir = \"./cookies/\" # NOTE: trailing slash (/) is required to avoid errors\n",
    "sign = Login(EMAIL, PASSWD)\n",
    "cookies = sign.login(cookie_dir_path=cookie_path_dir, save_cookies=True)"
   ]
  },
  {
   "cell_type": "code",
   "execution_count": 19,
   "id": "2622b074-f749-40e2-84cc-193d87b10057",
   "metadata": {
    "tags": []
   },
   "outputs": [],
   "source": [
    "message=\"\"\"\n",
    "This a metadata of a ESG report. Use this below information to answer the question.\n",
    "## Metadata\n",
    "'table_content': 'Metric tons x1,000 COze 2022 = 2021// 2019 Natural gas Scope 1 104 115 116 Diesel Scope 1 78 82 82 Other Scope1 61 55 52 Total scope 1 Scope1 243 252 250 Electricity Scope 2 71 103 107 District heating Scope 2 10 12 18 Total scope 2, market based Scope 2 81 115 125 Total scope 2, locationbased Scope2 180 204 215 Total Scope 1 and 2 324 367 375',\n",
    "  'description': '## Emerging` Market ESG Analysis Summary\\n\\nThe table reveals a slight increase in total Scope 1 and 2 emissions (324 to 375) between 2019 and 2022. This rise is primarily driven by the growth in Scope 2 emissions, particularly from location-based accounting, which considers the emissions intensity of the electricity grid. Notably, natural gas use remains the dominant contributor to Scope 1 emissions, highlighting the potential for cleaner energy alternatives to mitigate environmental impact. For emerging market ESG analysis, this data underscores the importance of assessing Scope 2 emissions and considering local energy infrastructure alongside traditional Scope 1 analysis. Additionally, the increasing reliance on natural gas emphasizes the need for investments in renewable energy sources and decarbonization strategies for a sustainable future in these markets.'\n",
    "  \n",
    "  \n",
    "## Question: How much was the Scope 1 and Scope 2 emissions separately in 2022 and 2021? Reply in a JSON format.\n",
    "\"\"\""
   ]
  },
  {
   "cell_type": "code",
   "execution_count": 6,
   "id": "9893702f-5648-4f64-a708-052d114599fc",
   "metadata": {
    "tags": []
   },
   "outputs": [],
   "source": [
    "message=\"\"\"\n",
    "This a metadata of a ESG report. Use this below information to answer the question.\n",
    "## Metadata\n",
    "'table_content_html': \"<table><thead><tr><th>aes Crt</th><th>Scope 1,20r3</th><th>Eee Tire on baseline GHG inventory _</th><th>2019 Baseline</th><th></th></tr></thead><tbody><tr><td></td><td></td><td></td><td>Mton</td><td></td></tr><tr><td rowspan=\"2\"></td><td>Scope1 Direct emissions</td><td>&lt;0.5%</td><td>0.250</td><td>0.243</td></tr><tr><td>Scope 2 Indirect emissions from purchased energy</td><td>&lt;0.5%</td><td>0.125</td><td>0.081</td></tr><tr><td>Other indirect emissions</td><td>Other Scope 3 Approximately 4% of the goods and services, operations business travel,</td><td>greenhouse gas inventory are transportation and distribution, waste employee commuting etc.</td><td>related to purchased generated in</td><td></td></tr></tbody></table>\" \n",
    "'description': \"## ESG Summary of Ease EN Peer\\n\\nThis table presents an overview of Ease EN's greenhouse gas emissions through their production processes and dealerships. Key insights for ESG analysis in emerging markets include:\\n\\n1. **Low Scope 2 emissions:** At less than 0.5%, Ease EN's reliance on purchased energy appears minimal, suggesting a low carbon footprint from their operational activities. This bodes well for their environmental impact in emerging markets, where energy infrastructure may be less developed and reliant on fossil fuels.\\n2. **Significant Scope 3 emissions:** Purchased goods and services, transportation, and waste contribute approximately 4% of Ease EN's emissions. While seemingly minor, this highlights the importance of understanding and mitigating indirect emissions in emerging markets, where supply chains can be complex and regulations less stringent.\\n3. **Limited data:** The table lacks information on key social and governance indicators, making a comprehensive ESG assessment challenging. Further data on labor practices, community engagement, and board diversity is crucial for evaluating Ease EN's social and governance impact in emerging economies.\\n\\nThese insights underscore the need for emerging market investors to delve deeper into Scope 3 emissions and request comprehensive ESG data for informed investment decisions.\"}\n",
    "  \n",
    "  \n",
    "## Question: How much was the Scope 1 and Scope 2 emissions separately in 2022 and 2021? Reply in a JSON format.\n",
    "\"\"\""
   ]
  },
  {
   "cell_type": "code",
   "execution_count": 9,
   "id": "73cdcdbe-a03c-419c-8f47-faeef11e257e",
   "metadata": {
    "tags": []
   },
   "outputs": [],
   "source": [
    "message=\"\"\"\n",
    "This a metadata of a ESG report. Use this below information to answer the question.\n",
    "## Metadata\n",
    "'table_html_content': '<table><thead><tr><th>aes Crt</th><th>Scope 1,20r3</th><th>Eee Tire on baseline GHG inventory _</th><th>2019 Baseline</th><th></th></tr></thead><tbody><tr><td></td><td></td><td></td><td>Mton</td><td></td></tr><tr><td rowspan=\"2\"></td><td>Scope1 Direct emissions</td><td>&lt;0.5%</td><td>0.250</td><td>0.243</td></tr><tr><td>Scope 2 Indirect emissions from purchased energy</td><td>&lt;0.5%</td><td>0.125</td><td>0.081</td></tr><tr><td>Other indirect emissions</td><td>Other Scope 3 Approximately 4% of the goods and services, operations business travel,</td><td>greenhouse gas inventory are transportation and distribution, waste employee commuting etc.</td><td>related to purchased generated in</td><td></td></tr></tbody></table>'\n",
    "\n",
    "## Question: How much was the Scope 1, Scope 2 and Scope 3 emissions separately in 2019 and 2022? Reply in a JSON format.\n",
    "\"\"\""
   ]
  },
  {
   "cell_type": "code",
   "execution_count": 10,
   "id": "36cd5450-2547-46d6-9ca3-ba9e2b804ff1",
   "metadata": {
    "tags": []
   },
   "outputs": [],
   "source": [
    "# Create your ChatBot\n",
    "chatbot = hugchat.ChatBot(cookies=cookies.get_dict())  # or cookie_path=\"usercookies/<email>.json\"\n",
    "\n",
    "message_result = chatbot.chat(message) # note: message_result is a generator, the method will return immediately.\n",
    "# Non stream\n",
    "message_str: str = message_result.wait_until_done() # you can also print(message_result) directly. "
   ]
  },
  {
   "cell_type": "code",
   "execution_count": 11,
   "id": "66ec8063-df8f-4cdb-b1eb-17784dd68d5f",
   "metadata": {
    "tags": []
   },
   "outputs": [
    {
     "data": {
      "text/plain": [
       "'Based on the provided metadata, here is the answer in JSON format:\\n\\n```\\n{\\n  \"Scope 1\": {\\n    \"2019\": 0.250,\\n    \"2022\": 0.243\\n  },\\n  \"Scope 2\": {\\n    \"2019\": 0.125,\\n    \"2022\": 0.081\\n  },\\n  \"Scope 3\": {\\n    \"2019\": \"Approximately 4% of the goods and services, operations business travel, transportation and distribution, waste employee commuting etc.\",\\n    \"2022\": \"No data available\"\\n  }\\n}\\n```\\n\\nNote that the Scope 3 emissions are not provided as a numerical value in the metadata, but rather as a descriptive text. Therefore, I couldn\\'t provide a numerical value for Scope 3 emissions in 2019 and 2022.'"
      ]
     },
     "execution_count": 11,
     "metadata": {},
     "output_type": "execute_result"
    }
   ],
   "source": [
    "message_str"
   ]
  },
  {
   "cell_type": "code",
   "execution_count": null,
   "id": "4214b768-d9ee-4e7f-868e-dc5b391e010f",
   "metadata": {},
   "outputs": [],
   "source": []
  }
 ],
 "metadata": {
  "environment": {
   "kernel": "python3",
   "name": "tf2-cpu.2-11.m123",
   "type": "gcloud",
   "uri": "us-docker.pkg.dev/deeplearning-platform-release/gcr.io/tf2-cpu.2-11:m123"
  },
  "kernelspec": {
   "display_name": "Python 3 (Local)",
   "language": "python",
   "name": "python3"
  },
  "language_info": {
   "codemirror_mode": {
    "name": "ipython",
    "version": 3
   },
   "file_extension": ".py",
   "mimetype": "text/x-python",
   "name": "python",
   "nbconvert_exporter": "python",
   "pygments_lexer": "ipython3",
   "version": "3.10.14"
  }
 },
 "nbformat": 4,
 "nbformat_minor": 5
}
