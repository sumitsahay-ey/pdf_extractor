{
 "cells": [
  {
   "cell_type": "code",
   "execution_count": null,
   "metadata": {},
   "outputs": [],
   "source": [
    "# %pip install --upgrade --user --quiet google-cloud-aiplatform"
   ]
  },
  {
   "cell_type": "code",
   "execution_count": null,
   "metadata": {},
   "outputs": [],
   "source": [
    "# # Restart the kernel after installing packages:\n",
    "\n",
    "# import IPython\n",
    "\n",
    "# app = IPython.Application.instance()\n",
    "# app.kernel.do_shutdown(True)"
   ]
  },
  {
   "cell_type": "code",
   "execution_count": 1,
   "metadata": {
    "tags": []
   },
   "outputs": [
    {
     "name": "stdout",
     "output_type": "stream",
     "text": [
      "\n",
      "Credentials saved to file: [/home/jupyter/.config/gcloud/application_default_credentials.json]\n",
      "\n",
      "These credentials will be used by any library that requests Application Default Credentials (ADC).\n",
      "\n",
      "Quota project \"esg-satelite\" was added to ADC which can be used by Google client libraries for billing and quota. Note that some services may still bill the project owning the resource.\n",
      "/bin/bash: line 1: Y: command not found\n",
      "\u001b[1;33mWARNING:\u001b[0m [699687249847-compute@developer.gserviceaccount.com] does not have permission to access projects instance [esg-satelite] (or it may not exist): The caller does not have permission. This command is authenticated as 699687249847-compute@developer.gserviceaccount.com which is the active account specified by the [core/account] property\n",
      "Updated property [core/project].\n"
     ]
    }
   ],
   "source": [
    "PROJECT_ID = \"esg-satelite\"\n",
    "REGION = \"europe-west2\"\n",
    "\n",
    "# !gcloud auth application-default login --quiet\n",
    "!gcloud auth application-default set-quota-project {PROJECT_ID}\n",
    "!Y | gcloud config set project {PROJECT_ID}"
   ]
  },
  {
   "cell_type": "code",
   "execution_count": 11,
   "metadata": {
    "tags": []
   },
   "outputs": [
    {
     "name": "stderr",
     "output_type": "stream",
     "text": [
      "WARNING: [699687249847-compute@developer.gserviceaccount.com] does not have permission to access projects instance [esg-satelite] (or it may not exist): The caller does not have permission. This command is authenticated as 699687249847-compute@developer.gserviceaccount.com which is the active account specified by the [core/account] property\n",
      "Updated property [core/project].\n"
     ]
    }
   ],
   "source": [
    "%%bash\n",
    "\n",
    "gcloud config set project esg-satelite"
   ]
  },
  {
   "cell_type": "code",
   "execution_count": 2,
   "metadata": {
    "tags": []
   },
   "outputs": [],
   "source": [
    "from vertexai.generative_models import (\n",
    "    GenerativeModel,\n",
    "    GenerationResponse,\n",
    "    GenerationConfig,\n",
    "    Tool,\n",
    "    grounding,\n",
    ")\n",
    "from vertexai.preview.generative_models import grounding as preview_grounding\n",
    "from IPython.display import display, Markdown\n",
    "\n",
    "def print_grounding_response(response: GenerationResponse):\n",
    "    \"\"\"Prints Gemini response with grounding citations.\"\"\"\n",
    "    grounding_metadata = response.candidates[0].grounding_metadata\n",
    "\n",
    "    # Citation indices are in byte units\n",
    "    ENCODING = \"utf-8\"\n",
    "    text_bytes = response.text.encode(ENCODING)\n",
    "\n",
    "    prev_index = 0\n",
    "    markdown_text = \"\"\n",
    "\n",
    "    sources: dict[str, str] = {}\n",
    "    footnote = 1\n",
    "    for attribution in grounding_metadata.grounding_attributions:\n",
    "        context = attribution.web or attribution.retrieved_context\n",
    "        if not context:\n",
    "            print(f\"Skipping Grounding Attribution {attribution}\")\n",
    "            continue\n",
    "\n",
    "        title = context.title\n",
    "        uri = context.uri\n",
    "        end_index = int(attribution.segment.end_index)\n",
    "\n",
    "        if uri not in sources:\n",
    "            sources[uri] = {\"title\": title, \"footnote\": footnote}\n",
    "            footnote += 1\n",
    "\n",
    "        text_segment = text_bytes[prev_index:end_index].decode(ENCODING)\n",
    "        markdown_text += f\"{text_segment} [[{sources[uri]['footnote']}]]({uri})\"\n",
    "        prev_index = end_index\n",
    "\n",
    "    if prev_index < len(text_bytes):\n",
    "        markdown_text += str(text_bytes[prev_index:], encoding=ENCODING)\n",
    "\n",
    "    markdown_text += \"\\n## Grounding Sources\\n\"\n",
    "\n",
    "    if grounding_metadata.web_search_queries:\n",
    "        markdown_text += (\n",
    "            f\"\\n**Web Search Queries:** {grounding_metadata.web_search_queries}\\n\"\n",
    "        )\n",
    "    elif grounding_metadata.retrieval_queries:\n",
    "        markdown_text += (\n",
    "            f\"\\n**Retrieval Queries:** {grounding_metadata.retrieval_queries}\\n\"\n",
    "        )\n",
    "\n",
    "    for uri, source in sources.items():\n",
    "        markdown_text += f\"{source['footnote']}. [{source['title']}]({uri})\\n\"\n",
    "\n",
    "    display(Markdown(markdown_text))\n",
    "\n",
    "\n",
    "import vertexai\n",
    "vertexai.init(project=PROJECT_ID, location=REGION)"
   ]
  },
  {
   "cell_type": "code",
   "execution_count": 3,
   "metadata": {
    "tags": []
   },
   "outputs": [],
   "source": [
    "model = GenerativeModel(\n",
    "    model_name=\"gemini-1.0-pro-002\",\n",
    "    system_instruction = [\n",
    "        \"You are an industry researcher who writes industry/market trend research report given latest news, websites and reports/documents. Specifically, the end users are interested in knowing the opportunies.\", \n",
    "        # \"Provide statements/citations that reflect a deep understanding of the field, guaranteeing their correctness.\",\n",
    "        \"Any statements/citations made in your report would require a reference together of its URI of where the conlcusion was driven from.\",\n",
    "        # \"For example, the market increase by 1% in 2022 [1], where [1] is the reference for this statement.\",\n",
    "        \"Please always give the website URI for each reference/citation.\"\n",
    "        \"The report produced should be long, summarise all information in a structured way and follow a standard industry research report layout.\", \n",
    "        \"Create markdown tables if necessary.\"\n",
    "        ]\n",
    "    )"
   ]
  },
  {
   "cell_type": "code",
   "execution_count": 4,
   "metadata": {
    "tags": []
   },
   "outputs": [],
   "source": [
    "prompt = \"\"\"\n",
    "User input: Give me the report on the Aisa EV industry. \n",
    "Answer:\n",
    "\"\"\""
   ]
  },
  {
   "cell_type": "markdown",
   "metadata": {},
   "source": [
    "# 1. No Gounding"
   ]
  },
  {
   "cell_type": "code",
   "execution_count": null,
   "metadata": {
    "tags": []
   },
   "outputs": [],
   "source": [
    "response = model.generate_content(prompt)\n",
    "\n",
    "display(Markdown(response.text))"
   ]
  },
  {
   "cell_type": "markdown",
   "metadata": {},
   "source": [
    "# 2. Gounding: Google Search"
   ]
  },
  {
   "cell_type": "code",
   "execution_count": 7,
   "metadata": {},
   "outputs": [
    {
     "data": {
      "text/markdown": [
       "## Asia Electric Vehicle (EV) Industry Report\n",
       "\n",
       "**Date:** June 26, 2024\n",
       "\n",
       "**Executive Summary:**\n",
       "\n",
       "The Asia EV market is experiencing significant growth, driven by government policies, rising fuel prices, and increasing environmental awareness. The market is expected to reach USD 4.70 billion in ASEAN and USD 1186.89 billion in the broader Asia Pacific region by 2029, with a CAGR of 32.73% and 18.06% respectively. \n",
       "\n",
       "**Market Size and Growth:**\n",
       "\n",
       "* The ASEAN EV market size was estimated at USD 0.86 billion in 2023 and is projected to reach USD 4.70 billion by 2029.\n",
       "* The Asia Pacific EV market size was valued at USD 225.56 billion in 2022 and is expected to reach USD 1186.89 billion by 2032.\n",
       "\n",
       "**Key Drivers:**\n",
       "\n",
       "* **Government policies:** Governments in the region are implementing supportive policies, such as subsidies, tax breaks, and charging infrastructure development, to promote EV adoption.\n",
       "* **Rising fuel prices:** The increasing cost of fossil fuels is making EVs a more attractive option for consumers.\n",
       "* **Environmental awareness:** Growing concerns about air pollution and climate change are driving demand for EVs.\n",
       "\n",
       "**Opportunities:**\n",
       "\n",
       "* **Growing demand for EVs:** The increasing demand for EVs presents significant opportunities for manufacturers, charging infrastructure providers, and other stakeholders in the EV ecosystem.\n",
       "* **Technological advancements:** Advancements in battery technology, charging infrastructure, and autonomous driving are expected to further accelerate EV adoption.\n",
       "* **Government support:** Continued government support for the EV industry will create a favorable environment for growth.\n",
       "\n",
       "**Challenges:**\n",
       "\n",
       "* **High initial cost:** EVs are typically more expensive than traditional gasoline-powered vehicles.\n",
       "* **Limited charging infrastructure:** The availability of charging infrastructure is still limited in many parts of Asia.\n",
       "* **Range anxiety:** Consumers may be concerned about the range of EVs and the availability of charging stations.\n",
       "\n",
       "**Key Players:**\n",
       "\n",
       "* **BYD (China)**\n",
       "* **Tesla (US)**\n",
       "* **Volkswagen Group (Germany)**\n",
       "* **Hyundai Motor Group (South Korea)**\n",
       "* **Nissan (Japan)**\n",
       "\n",
       "**Conclusion:**\n",
       "\n",
       "The Asia EV market is poised for significant growth in the coming years. The key drivers of this growth include government policies, rising fuel prices, and increasing environmental awareness. However, challenges such as high initial cost, limited charging infrastructure, and range anxiety need to be addressed to further accelerate EV adoption.\n",
       "\n",
       "**References:**\n",
       "\n",
       "* [ASEAN EV Market - Growth, Share, Size & Electric Vehicle Industry - Mordor Intelligence](https://www.mordorintelligence.com/industry-reports/asean-electric-vehicle-market)\n",
       "* [Asia Pacific Electric vehicle (EV) Market Size, Share, Forecast Report - 2032](https://www.sphericalinsights.com/reports/asia-pacific-electric-vehicle-ev-market)\n",
       "\n",
       "## Grounding Sources\n",
       "\n",
       "**Web Search Queries:** ['Aisa EV industry report']\n"
      ],
      "text/plain": [
       "<IPython.core.display.Markdown object>"
      ]
     },
     "metadata": {},
     "output_type": "display_data"
    }
   ],
   "source": [
    "# Use Google Search for grounding\n",
    "tool = Tool.from_google_search_retrieval(grounding.GoogleSearchRetrieval())\n",
    "\n",
    "response = model.generate_content(\n",
    "    prompt,\n",
    "    tools=[tool],\n",
    "    generation_config=GenerationConfig(\n",
    "        temperature=0.0,\n",
    "        max_output_tokens=8192,\n",
    "        top_k=40,\n",
    "        top_p=0.95\n",
    "    )\n",
    ")\n",
    "\n",
    "# display(Markdown(response.text))\n",
    "# print(\"-----------------------------------------------------------------\")\n",
    "# print(response.candidates[0].to_dict()[\"grounding_metadata\"])\n",
    "\n",
    "\n",
    "print_grounding_response(response)"
   ]
  },
  {
   "cell_type": "code",
   "execution_count": 10,
   "metadata": {},
   "outputs": [
    {
     "data": {
      "application/vnd.jupyter.widget-view+json": {
       "model_id": "109c4c99b4d84f358481fd732c149abd",
       "version_major": 2,
       "version_minor": 0
      },
      "text/plain": [
       "Text(value='', description='Question:', layout=Layout(height='50px', width='80%'))"
      ]
     },
     "metadata": {},
     "output_type": "display_data"
    },
    {
     "data": {
      "application/vnd.jupyter.widget-view+json": {
       "model_id": "96d3680c89e144c8ad0cfdf153198e7b",
       "version_major": 2,
       "version_minor": 0
      },
      "text/plain": [
       "Button(description='Ask Me!', style=ButtonStyle())"
      ]
     },
     "metadata": {},
     "output_type": "display_data"
    },
    {
     "data": {
      "application/vnd.jupyter.widget-view+json": {
       "model_id": "b554ae0467b242418a261791ca9d7290",
       "version_major": 2,
       "version_minor": 0
      },
      "text/plain": [
       "Button(description='More details', style=ButtonStyle())"
      ]
     },
     "metadata": {},
     "output_type": "display_data"
    },
    {
     "data": {
      "application/vnd.jupyter.widget-view+json": {
       "model_id": "4631570ded374e738a4ad9b65fedd79b",
       "version_major": 2,
       "version_minor": 0
      },
      "text/plain": [
       "Output()"
      ]
     },
     "metadata": {},
     "output_type": "display_data"
    }
   ],
   "source": [
    "import ipywidgets as widgets\n",
    "from IPython.display import clear_output\n",
    "\n",
    "button = widgets.Button(description=\"Ask Me!\")\n",
    "output = widgets.Output()\n",
    "button_stp = widgets.Button(description=\"More details\")\n",
    "output = widgets.Output()\n",
    "text = widgets.Text(\n",
    "    description=\"Question:\", layout=widgets.Layout(width=\"80%\", height=\"50px\")\n",
    ")\n",
    "display(text, button, button_stp, output)\n",
    "\n",
    "\n",
    "@output.capture()\n",
    "def on_button_clicked(b):\n",
    "    # clear_output()\n",
    "    # question = text.value\n",
    "\n",
    "    # result = retrieval_chain.invoke({\"input\": question})\n",
    "    # source_documents = list({doc.metadata[\"source\"] for doc in result[\"context\"]})\n",
    "\n",
    "    # print(\"\\nAnswer-\", result[\"answer\"])\n",
    "    # print(\"\\nSource-\", \"\\n\".join(source_documents))\n",
    "    # print(\"\\n\")\n",
    "    \n",
    "    print(\"\\nAnswer-\", \"hello\")\n",
    "    print(\"\\nSource-\", \"\\n\".join([\"My notes\"]))\n",
    "    print(\"\\n\")\n",
    "\n",
    "\n",
    "@output.capture()\n",
    "def on_stp_clicked(b):\n",
    "    # clear_output()\n",
    "    # question = text.value\n",
    "    # query = question + \"Give detailed information as much as possible. \"\n",
    "    # result = retrieval_chain.invoke({\"input\": query})\n",
    "    # source_documents = list({doc.metadata[\"source\"] for doc in result[\"context\"]})\n",
    "\n",
    "    # print(\"\\nAnswer-\", result[\"answer\"])\n",
    "    # print(\"\\nSource-\", \"\\n\".join(source_documents))\n",
    "    # print(\"\\n\")\n",
    "    \n",
    "    print(\"\\n1Answer-\", \"hello\")\n",
    "    print(\"\\n1Source-\", \"\\n\".join([\"My notes\"]))\n",
    "    print(\"\\n\")\n",
    "\n",
    "\n",
    "\n",
    "button.on_click(on_button_clicked)\n",
    "button_stp.on_click(on_stp_clicked)"
   ]
  },
  {
   "cell_type": "code",
   "execution_count": null,
   "metadata": {},
   "outputs": [],
   "source": [
    "import vertexai\n",
    "\n",
    "from vertexai.generative_models import GenerativeModel, Part\n",
    "\n",
    "# TODO(developer): Update and un-comment below lines\n",
    "# project_id = \"PROJECT_ID\"\n",
    "\n",
    "vertexai.init(project=project_id, location=\"us-central1\")\n",
    "\n",
    "model = GenerativeModel(model_name=\"gemini-1.5-flash-001\")\n",
    "\n",
    "prompt = \"\"\"\n",
    "You are a very professional document summarization specialist.\n",
    "Please summarize the given document.\n",
    "\"\"\"\n",
    "\n",
    "pdf_file_uri = \"gs://cloud-samples-data/generative-ai/pdf/2403.05530.pdf\"\n",
    "pdf_file = Part.from_uri(pdf_file_uri, mime_type=\"application/pdf\")\n",
    "contents = [pdf_file, prompt]\n",
    "\n",
    "response = model.generate_content(contents)\n",
    "print(response.text)"
   ]
  }
 ],
 "metadata": {
  "environment": {
   "kernel": "python3",
   "name": "tf2-cpu.2-11.m123",
   "type": "gcloud",
   "uri": "us-docker.pkg.dev/deeplearning-platform-release/gcr.io/tf2-cpu.2-11:m123"
  },
  "kernelspec": {
   "display_name": "Python 3 (Local)",
   "language": "python",
   "name": "python3"
  },
  "language_info": {
   "codemirror_mode": {
    "name": "ipython",
    "version": 3
   },
   "file_extension": ".py",
   "mimetype": "text/x-python",
   "name": "python",
   "nbconvert_exporter": "python",
   "pygments_lexer": "ipython3",
   "version": "3.10.14"
  }
 },
 "nbformat": 4,
 "nbformat_minor": 4
}
